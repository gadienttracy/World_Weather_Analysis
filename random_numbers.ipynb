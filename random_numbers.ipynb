{
 "cells": [
  {
   "cell_type": "code",
   "execution_count": 1,
   "id": "9a5e75fa",
   "metadata": {},
   "outputs": [],
   "source": [
    "# Import the random module.\n",
    "import random"
   ]
  },
  {
   "cell_type": "code",
   "execution_count": 2,
   "id": "eadbae62",
   "metadata": {},
   "outputs": [
    {
     "data": {
      "text/plain": [
       "-26"
      ]
     },
     "execution_count": 2,
     "metadata": {},
     "output_type": "execute_result"
    }
   ],
   "source": [
    "random.randint(-90,90)"
   ]
  },
  {
   "cell_type": "code",
   "execution_count": 3,
   "id": "c6f579df",
   "metadata": {},
   "outputs": [
    {
     "data": {
      "text/plain": [
       "0.8864259428077047"
      ]
     },
     "execution_count": 3,
     "metadata": {},
     "output_type": "execute_result"
    }
   ],
   "source": [
    "random.random()"
   ]
  },
  {
   "cell_type": "code",
   "execution_count": 4,
   "id": "351414a5",
   "metadata": {},
   "outputs": [
    {
     "data": {
      "text/plain": [
       "37.109126155200514"
      ]
     },
     "execution_count": 4,
     "metadata": {},
     "output_type": "execute_result"
    }
   ],
   "source": [
    "#combine randint and random to get decimals between -90 and 89\n",
    "random_number = random.randint(-90, 89) + random.random()\n",
    "random_number"
   ]
  },
  {
   "cell_type": "code",
   "execution_count": 6,
   "id": "8a78f9b5",
   "metadata": {},
   "outputs": [
    {
     "data": {
      "text/plain": [
       "[2.1244769184304513,\n",
       " 22.31612822966316,\n",
       " 86.67146254270233,\n",
       " -15.498345649378784,\n",
       " -78.08132294424854,\n",
       " 24.942747212276448,\n",
       " -67.46706635884932,\n",
       " 42.38511520514964,\n",
       " 73.5648545258538,\n",
       " 70.9591674401385]"
      ]
     },
     "execution_count": 6,
     "metadata": {},
     "output_type": "execute_result"
    }
   ],
   "source": [
    "#Assign the variable x to 1\n",
    "x = 1\n",
    "#Initialize an empty list, latitudes.\n",
    "latitudes = []\n",
    "#We create a while loop where we generate a random latitude and add it to the list.\n",
    "while x < 11:\n",
    "    #After the random latitude is added to the list we add one to the variable \"x\".\n",
    "    random_lat = random.randint(-90,89) + random.random()\n",
    "    #The while loop condition is checked again and will continue to run as long as x is less than 11.\n",
    "    latitudes.append(random_lat)\n",
    "    x += 1\n",
    "latitudes"
   ]
  },
  {
   "cell_type": "code",
   "execution_count": 7,
   "id": "fa5b4125",
   "metadata": {},
   "outputs": [
    {
     "data": {
      "text/plain": [
       "-89"
      ]
     },
     "execution_count": 7,
     "metadata": {},
     "output_type": "execute_result"
    }
   ],
   "source": [
    "random.randrange(-90, 90, step=1)\n",
    "#The output is a number between -90 and 90, where the step is the difference between each number in the sequence."
   ]
  },
  {
   "cell_type": "code",
   "execution_count": 8,
   "id": "489f33fa",
   "metadata": {},
   "outputs": [
    {
     "data": {
      "text/plain": [
       "-18"
      ]
     },
     "execution_count": 8,
     "metadata": {},
     "output_type": "execute_result"
    }
   ],
   "source": [
    "random.randrange(-90, 90, step=3)\n",
    "#The output is a number between -90 and 90, where the difference between each number in the sequence is 3."
   ]
  },
  {
   "cell_type": "code",
   "execution_count": 9,
   "id": "de000019",
   "metadata": {},
   "outputs": [
    {
     "data": {
      "text/plain": [
       "-14.19501455077571"
      ]
     },
     "execution_count": 9,
     "metadata": {},
     "output_type": "execute_result"
    }
   ],
   "source": [
    "random.uniform(-90, 90)"
   ]
  },
  {
   "cell_type": "code",
   "execution_count": 10,
   "id": "70d738c5",
   "metadata": {},
   "outputs": [],
   "source": [
    "# Import the NumPy module.\n",
    "import numpy as np"
   ]
  },
  {
   "cell_type": "code",
   "execution_count": 11,
   "id": "f0f5e7ab",
   "metadata": {},
   "outputs": [
    {
     "data": {
      "text/plain": [
       "33.08943361434609"
      ]
     },
     "execution_count": 11,
     "metadata": {},
     "output_type": "execute_result"
    }
   ],
   "source": [
    "#When we use the NumPy module with the random.uniform() function, the parenthetical parameters contain a lower boundary (low value) and an upper boundary (high value) that are floating-point decimal numbers\n",
    "np.random.uniform(-90.000, 90.000)"
   ]
  },
  {
   "cell_type": "code",
   "execution_count": 12,
   "id": "64042b6b",
   "metadata": {},
   "outputs": [
    {
     "data": {
      "text/plain": [
       "array([ 2.13207672e+01,  4.65385968e+01, -6.71742820e+01, -6.76491664e+01,\n",
       "        4.07809695e+01, -6.10320631e+01, -6.97397134e+01, -3.39107157e-02,\n",
       "        7.71133641e+01, -6.06993486e+01, -7.97179484e+01, -7.16856740e+01,\n",
       "       -8.31681025e+01,  2.66918445e+01, -1.11811220e+01, -3.93446068e+01,\n",
       "        3.58336918e+01,  5.84601626e+01, -8.21632007e+01, -3.49020360e+00,\n",
       "       -4.74072714e+01, -1.41549399e+01, -1.00068407e+01,  5.54320938e+01,\n",
       "        4.24494890e+01,  6.85380191e+01, -3.79344652e+01,  9.61457733e+00,\n",
       "        1.48356760e+01,  1.10077330e+01, -4.01809706e+01,  8.82721545e+01,\n",
       "       -7.81974426e+01,  4.69633450e+01, -4.57637060e+01,  5.54341071e+01,\n",
       "       -7.22208088e+01, -7.66913682e+01, -2.95991021e+01, -3.22725652e+01,\n",
       "        6.69091357e+01, -8.55946266e+01,  8.82275463e-01,  8.80376705e+01,\n",
       "       -5.24932773e+01,  2.91601336e+01, -8.37502084e+01, -6.27715718e+01,\n",
       "        1.46541199e+01,  1.06420108e+01])"
      ]
     },
     "execution_count": 12,
     "metadata": {},
     "output_type": "execute_result"
    }
   ],
   "source": [
    "#generate more than one floating-point decimal number between –90 and 90, we can add the size parameter when we use the NumPy module and set that equal to any whole number.\n",
    "np.random.uniform(-90.000, 90.000, size=50)"
   ]
  },
  {
   "cell_type": "code",
   "execution_count": 13,
   "id": "7abf1fcf",
   "metadata": {},
   "outputs": [],
   "source": [
    "# Import timeit.\n",
    "import timeit"
   ]
  },
  {
   "cell_type": "code",
   "execution_count": 14,
   "id": "7e642489",
   "metadata": {},
   "outputs": [
    {
     "name": "stdout",
     "output_type": "stream",
     "text": [
      "14.2 µs ± 358 ns per loop (mean ± std. dev. of 7 runs, 100000 loops each)\n"
     ]
    }
   ],
   "source": [
    "#time the size command\n",
    "%timeit np.random.uniform(-90.000, 90.000, size=1500)"
   ]
  },
  {
   "cell_type": "code",
   "execution_count": 15,
   "id": "cf7fc0a5",
   "metadata": {},
   "outputs": [
    {
     "name": "stdout",
     "output_type": "stream",
     "text": [
      "1.73 ms ± 24.7 µs per loop (mean ± std. dev. of 7 runs, 1000 loops each)\n"
     ]
    }
   ],
   "source": [
    "#time the while loop\n",
    "def latitudes(size):\n",
    "    latitudes = []\n",
    "    x = 0\n",
    "    while x < (size):\n",
    "        random_lat = random.randint(-90, 90) + random.random()\n",
    "        latitudes.append(random_lat)\n",
    "        x += 1\n",
    "    return latitudes\n",
    "# Call the function with 1500.\n",
    "%timeit latitudes(1500)"
   ]
  },
  {
   "cell_type": "code",
   "execution_count": null,
   "id": "758d1dec",
   "metadata": {},
   "outputs": [],
   "source": []
  }
 ],
 "metadata": {
  "kernelspec": {
   "display_name": "Python 3 (ipykernel)",
   "language": "python",
   "name": "python3"
  },
  "language_info": {
   "codemirror_mode": {
    "name": "ipython",
    "version": 3
   },
   "file_extension": ".py",
   "mimetype": "text/x-python",
   "name": "python",
   "nbconvert_exporter": "python",
   "pygments_lexer": "ipython3",
   "version": "3.7.11"
  }
 },
 "nbformat": 4,
 "nbformat_minor": 5
}
